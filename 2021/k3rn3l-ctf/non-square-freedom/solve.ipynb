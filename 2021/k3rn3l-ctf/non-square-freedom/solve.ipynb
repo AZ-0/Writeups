{
 "cells": [
  {
   "cell_type": "markdown",
   "metadata": {},
   "source": [
    "# Non-Square Freedom 1 \n",
    "\n",
    "Something something multiprime RSA."
   ]
  },
  {
   "cell_type": "code",
   "execution_count": 1,
   "metadata": {},
   "outputs": [],
   "source": [
    "N =  68410735253478047532669195609897926895002715632943461448660159313126496660033080937734557748701577020593482441014012783126085444004682764336220752851098517881202476417639649807333810261708210761333918442034275018088771547499619393557995773550772279857842207065696251926349053195423917250334982174308578108707\n",
    "# N = P**8 * Q * R\n",
    "\n",
    "e = 65537\n",
    "c = 4776006201999857533937746330553026200220638488579394063956998522022062232921285860886801454955588545654394710104334517021340109545003304904641820637316671869512340501549190724859489875329025743780939742424765825407663239591228764211985406490810832049380427145964590612241379808722737688823830921988891019862\n",
    "M = 58324527381741086207181449678831242444903897671571344216578285287377618832939516678686212825798172668450906644065483369735063383237979049248667084304630968896854046853486000780081390375682767386163384705607552367796490630893227401487357088304270489873369870382871693215188248166759293149916320915248800905458\n",
    "\n",
    "P = gcd(M, N)^(1/8)\n",
    "QR = N // P^8"
   ]
  },
  {
   "cell_type": "code",
   "execution_count": 2,
   "metadata": {},
   "outputs": [
    {
     "data": {
      "text/plain": [
       "True"
      ]
     },
     "execution_count": 2,
     "metadata": {},
     "output_type": "execute_result"
    }
   ],
   "source": [
    "N == P**8 * QR"
   ]
  },
  {
   "cell_type": "markdown",
   "metadata": {},
   "source": [
    "By definition, we have:\n",
    "```haskell\n",
    "m = m'*P, where gcd(m', N) = 1\n",
    "c = m^e = m'^e * P^e mod N\n",
    "M = c^d = m'^ed * P^ed = m' * P^ed mod N\n",
    "```\n",
    "We also know that `m < QR`.\n",
    "While the crux of the challenge is that Euler's theorem holds *only* for integers coprime to `N`, it will hold for `P` mod `QR` (if `d|n` and `a = b mod n` then `a = b mod d`).\n",
    "\n",
    "Thus, `M = m' * P^ed = m'*P = m mod QR`."
   ]
  },
  {
   "cell_type": "code",
   "execution_count": 3,
   "metadata": {},
   "outputs": [],
   "source": [
    "Zs = Zmod(QR)"
   ]
  },
  {
   "cell_type": "code",
   "execution_count": 4,
   "metadata": {},
   "outputs": [
    {
     "data": {
      "text/plain": [
       "b'flag{y34_th1s_1s_n0t_h0w_mult1pr1m3_RS4_w0rks_buddy}\\x90z\\x8f\\xeeG+\\xda\\x80'"
      ]
     },
     "execution_count": 4,
     "metadata": {},
     "output_type": "execute_result"
    }
   ],
   "source": [
    "def i2b(i):\n",
    "    i = int(i)\n",
    "    return i.to_bytes(-(-i.bit_length()//8), 'big')\n",
    "\n",
    "x = Zs(M)\n",
    "i2b(x)"
   ]
  },
  {
   "cell_type": "markdown",
   "metadata": {},
   "source": [
    "# Non-Square Freedom 2\n",
    "\n",
    "Everything is much the same, except the assertion that `m < QR` is now false."
   ]
  },
  {
   "cell_type": "code",
   "execution_count": 5,
   "metadata": {},
   "outputs": [],
   "source": [
    "n = 51214772223826458947343903953001487476278631390021520449180482250318402223871910467589821176474724615270573620128351792442696435406924016685353662124634928276565604574767844305337546301974967758679072483930469188209450741154719808928273796360060047042981437882233649203901005093617276209822357002895662878141\n",
    "e = 65537\n",
    "c = 41328763458934302623886982279989290133391941143474825043156612786022747186181626092904440906629512249693098336428292454473471954816980834113337123971593864752166968333372184013915759408279871722264574280860701217968784830530130601590818131935509927605432477384634437968100579272192406391181345133757405127746\n",
    "M = 36121865463995782277296293158498110427613111962414238045946490101935688033022876541418793886469647898078579120189419552431787379541843120009675223060979171856818401470674058515557901674369835328155371791544935440499813846484080003978652786490718806523938327240659684439275298596339460595405316567186468069580"
   ]
  },
  {
   "cell_type": "code",
   "execution_count": 6,
   "metadata": {},
   "outputs": [],
   "source": [
    "P = gcd(n, M)^(1/8)\n",
    "assert gcd(n, M) == P^8\n",
    "QR = n//P^8"
   ]
  },
  {
   "cell_type": "markdown",
   "metadata": {},
   "source": [
    "The padding function used is now this one, which makes `m` a multiple of `P^3`:"
   ]
  },
  {
   "cell_type": "code",
   "execution_count": 7,
   "metadata": {},
   "outputs": [],
   "source": [
    "def pad_hard(m):\n",
    "    m <<= 256\n",
    "    m += int.from_bytes(os.urandom(256//8),'big')\n",
    "    m += -m % P**2\n",
    "    m += -m % P**3\n",
    "    return m"
   ]
  },
  {
   "cell_type": "code",
   "execution_count": 8,
   "metadata": {},
   "outputs": [
    {
     "data": {
      "text/plain": [
       "True"
      ]
     },
     "execution_count": 8,
     "metadata": {},
     "output_type": "execute_result"
    }
   ],
   "source": [
    "gcd(pad_hard(5), P^20) == P^3"
   ]
  },
  {
   "cell_type": "markdown",
   "metadata": {},
   "source": [
    "However, we still have `M = m mod QR` for the same reason as the first challenge, that we just need to combine with `m = 0 mod P^3`."
   ]
  },
  {
   "cell_type": "code",
   "execution_count": 9,
   "metadata": {},
   "outputs": [
    {
     "data": {
      "text/plain": [
       "b\"flag{1_th1nk_1_m1ght_b3_squ4r3_fr33_1nt0l3r4nt}a\\xcb\\x16\\x87\\x94\\xc3\\xc8\\xe1Y\\xa06\\x93\\x9d\\xd4x\\x83\\xe6S4\\x8f\\xbe\\tF\\xcazM'\\x8eY\\xb6eK\""
      ]
     },
     "execution_count": 9,
     "metadata": {},
     "output_type": "execute_result"
    }
   ],
   "source": [
    "m = M % QR\n",
    "x = crt([0, m], [P^3, QR])\n",
    "i2b(x)"
   ]
  }
 ],
 "metadata": {
  "kernelspec": {
   "display_name": "SageMath 9.2",
   "language": "sage",
   "name": "sagemath"
  },
  "language_info": {
   "codemirror_mode": {
    "name": "ipython",
    "version": 3
   },
   "file_extension": ".py",
   "mimetype": "text/x-python",
   "name": "python",
   "nbconvert_exporter": "python",
   "pygments_lexer": "ipython3",
   "version": "3.7.7"
  }
 },
 "nbformat": 4,
 "nbformat_minor": 4
}
