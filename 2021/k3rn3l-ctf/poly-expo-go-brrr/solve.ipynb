{
 "cells": [
  {
   "cell_type": "markdown",
   "metadata": {},
   "source": [
    "# Poly Expo go BRRRRR\n",
    "\n",
    "In this challenge, `n` is an RSA key and `N` is its polynomial in `Z/2Z`, with bits of `n` as coefficients.\n",
    "`C = M^e % N`, where `M` is the polynomial of `msg` and `C` the polynomial of `c`."
   ]
  },
  {
   "cell_type": "code",
   "execution_count": 1,
   "metadata": {},
   "outputs": [],
   "source": [
    "n = 119688104315557021890936576297322528053073582644938225605833562855944546643311189725353580415278613605803528999976536949698525581164157480218289586687945087549976509446759942778609918817975151644563678567137671925049937536315926169828583738712154203276012477308556625213229949900385215601055758028238785190211\n",
    "e = 65537\n",
    "c = 59180475538014020769986137847579404920412136380976726613826924727288568855214946199702335444771145318394201684142700441287649150098774979773106915707593238156979003572684188994666984941867671144226245449471326607224512384706414018555885923177955268177207582929765645093722741174664225408159262482249199006862\n",
    "\n",
    "P.<x> = GF(2)[]\n",
    "N = sum([int(b) * x^i for i, b in enumerate(bin(n)[2:])])\n",
    "Q.<x> = P.quotient(N)"
   ]
  },
  {
   "cell_type": "code",
   "execution_count": 2,
   "metadata": {},
   "outputs": [],
   "source": [
    "C = sum(int(b) * P.gen()^i for i, b in enumerate(f'{c:01023b}'))"
   ]
  },
  {
   "cell_type": "code",
   "execution_count": 3,
   "metadata": {},
   "outputs": [],
   "source": [
    "def encrypt(msg):\n",
    "    if type(msg) == bytes:\n",
    "        msg = int.from_bytes(msg, 'big')\n",
    "\n",
    "    assert msg < n\n",
    "    msg = sum([int(b) * x^i for i, b in enumerate(f'{msg:01023b}')])\n",
    "    cip = Q(msg)^e\n",
    "    cip = int(''.join([str(i) for i in list(cip)]), 2)\n",
    "    return cip"
   ]
  },
  {
   "cell_type": "markdown",
   "metadata": {},
   "source": [
    "An interesting thing to know is that it's much easier to factor `N` than it is to factor `n`. As such, we will find the 65537th root of `M` over `K[x]/(f^i)` for each factor `f` of `N`, then combine them with the chinese remainder theorem.\n",
    "\n",
    "NB: This theorem, while usually presented as a result over the integers, holds over all euclidean rings (such as `K[x]`).\n",
    "\n",
    "NB 2: It even holds over principal ideal domains, but non-constructively so we can't compute solutions in that case."
   ]
  },
  {
   "cell_type": "code",
   "execution_count": 4,
   "metadata": {
    "scrolled": true
   },
   "outputs": [],
   "source": [
    "facs = list(N.factor())"
   ]
  },
  {
   "cell_type": "code",
   "execution_count": 5,
   "metadata": {},
   "outputs": [
    {
     "data": {
      "text/plain": [
       "[Univariate Quotient Polynomial Ring in x over Finite Field of size 2 with modulus x^5 + x^4 + x + 1,\n",
       " Finite Field in x of size 2^3,\n",
       " Finite Field in x of size 2^7,\n",
       " Finite Field in x of size 2^24,\n",
       " Finite Field in x of size 2^85,\n",
       " Finite Field in x of size 2^257,\n",
       " Finite Field in x of size 2^642]"
      ]
     },
     "execution_count": 5,
     "metadata": {},
     "output_type": "execute_result"
    }
   ],
   "source": [
    "# When f is irreducible over K[x], K[x]/(f) is a field\n",
    "Qi = [P.quotient(fac^exp, names='x') if exp > 1 else GF(2^fac.degree(), modulus=fac, name='x') for fac, exp in facs]\n",
    "Qi"
   ]
  },
  {
   "cell_type": "code",
   "execution_count": 6,
   "metadata": {},
   "outputs": [],
   "source": [
    "# Sage has builtin nth-root for fields, but not for quotient polynomial rings\n",
    "roots = [F(C).nth_root(e) for F in Qi[1:]]"
   ]
  },
  {
   "cell_type": "code",
   "execution_count": 7,
   "metadata": {},
   "outputs": [
    {
     "data": {
      "text/plain": [
       "32"
      ]
     },
     "execution_count": 7,
     "metadata": {},
     "output_type": "execute_result"
    }
   ],
   "source": [
    "Qi[0].order()"
   ]
  },
  {
   "cell_type": "markdown",
   "metadata": {},
   "source": [
    "Since the order of the ring is small, we can bruteforce all polynomials to find the 65537th root of `C`."
   ]
  },
  {
   "cell_type": "code",
   "execution_count": 8,
   "metadata": {},
   "outputs": [
    {
     "data": {
      "text/plain": [
       "x^3 + x^2 + x"
      ]
     },
     "execution_count": 8,
     "metadata": {},
     "output_type": "execute_result"
    }
   ],
   "source": [
    "C0 = Qi[0](C)\n",
    "for root0 in Qi[0]:\n",
    "    if root0^e == C0:\n",
    "        break\n",
    "\n",
    "root0"
   ]
  },
  {
   "cell_type": "code",
   "execution_count": 9,
   "metadata": {
    "scrolled": true
   },
   "outputs": [
    {
     "data": {
      "text/plain": [
       "[x^3 + x^2 + x,\n",
       " x^2 + x,\n",
       " x^5 + x + 1,\n",
       " x^21 + x^20 + x^18 + x^17 + x^15 + x^13 + x^12 + x^10 + x^8 + x^7 + x^6 + x^4 + x^3 + x + 1]"
      ]
     },
     "execution_count": 9,
     "metadata": {},
     "output_type": "execute_result"
    }
   ],
   "source": [
    "# Lift the polynomials from K[x]/(f) to K[x]\n",
    "residues = [sum(int(c) * P.gen()^i for i, c in enumerate(root0))] + [P(root) for root in roots]\n",
    "residues[:4]"
   ]
  },
  {
   "cell_type": "code",
   "execution_count": 10,
   "metadata": {},
   "outputs": [],
   "source": [
    "F = crt(residues, [F.modulus() for F in Qi])"
   ]
  },
  {
   "cell_type": "code",
   "execution_count": 11,
   "metadata": {},
   "outputs": [
    {
     "data": {
      "text/plain": [
       "b'\\x00\\x00\\x00\\x00\\x00\\x00\\x00\\x00\\x00flag{bRrRrRrRr_Yun_C4nt0r_4nd_Z4ss3nh4us_34t_p0lyn0m14ls_f0r_br34kf4st_bRrRrRrRr}'"
      ]
     },
     "execution_count": 11,
     "metadata": {},
     "output_type": "execute_result"
    }
   ],
   "source": [
    "sum(int(bit) << i for i, bit in enumerate(F.list()[::-1])).to_bytes(90, 'big')"
   ]
  }
 ],
 "metadata": {
  "kernelspec": {
   "display_name": "SageMath 9.2",
   "language": "sage",
   "name": "sagemath"
  },
  "language_info": {
   "codemirror_mode": {
    "name": "ipython",
    "version": 3
   },
   "file_extension": ".py",
   "mimetype": "text/x-python",
   "name": "python",
   "nbconvert_exporter": "python",
   "pygments_lexer": "ipython3",
   "version": "3.7.7"
  }
 },
 "nbformat": 4,
 "nbformat_minor": 4
}
