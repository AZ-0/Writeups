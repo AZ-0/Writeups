{
 "cells": [
  {
   "cell_type": "code",
   "execution_count": 1,
   "id": "35ece9aa",
   "metadata": {},
   "outputs": [],
   "source": [
    "def quo(a, p):\n",
    "    return G(real(a/p).round() + I*imag(a/p).round())\n",
    "\n",
    "def mod(a, p):\n",
    "    return a - p*quo(a, p)\n",
    "\n",
    "def gpow(a, e, m):\n",
    "    r = G(1)\n",
    "    while e:\n",
    "        if e & 1:\n",
    "            r = mod(r*a, m)\n",
    "        a = mod(a*a, m)\n",
    "        e //= 2\n",
    "    return r\n",
    "\n",
    "def sqroot(y, p, all=True):\n",
    "    n = p.norm() # assert prime\n",
    "    d = gpow(y, (n-1)//4, p)\n",
    "    r = gpow(y, (n+3)//8, p) # r² = dy\n",
    "\n",
    "    if d == mod(1, p):\n",
    "        return [r, -r] if all else r\n",
    "    \n",
    "    if d == mod(-1, p):\n",
    "        r *= gpow(2, (n-1)//4, p)\n",
    "        return [r, -r] if all else r\n",
    "\n",
    "    raise ArithmeticError(\"Impossible case\")\n",
    "\n",
    "def modint(A, N):\n",
    "    # A = a + ib\n",
    "    # P = x + iy\n",
    "    # U = u + iv\n",
    "\n",
    "    # b = Im PU = xv + yu\n",
    "    _, v, u = xgcd(N.real(), N.imag())\n",
    "    A -= N*(u + I*v)*A.imag()\n",
    "    return A.real() % N.norm()"
   ]
  },
  {
   "cell_type": "code",
   "execution_count": 2,
   "id": "35e4103c",
   "metadata": {},
   "outputs": [],
   "source": [
    "import itertools\n",
    "\n",
    "def small_roots(f, bounds, m=1, d=None):\n",
    "\tif not d:\n",
    "\t\td = f.degree()\n",
    "\n",
    "\tR = f.base_ring()\n",
    "\tN = R.cardinality()\n",
    "\t\n",
    "\tf /= f.coefficients().pop(0)\n",
    "\tf = f.change_ring(ZZ)\n",
    "\n",
    "\tG = Sequence([], f.parent())\n",
    "\tfor i in range(m+1):\n",
    "\t\tbase = N^(m-i) * f^i\n",
    "\t\tfor shifts in itertools.product(range(d), repeat=f.nvariables()):\n",
    "\t\t\tg = base * prod(map(power, f.variables(), shifts))\n",
    "\t\t\tG.append(g)\n",
    "\n",
    "\tB, monomials = G.coefficient_matrix()\n",
    "\tmonomials = vector(monomials)\n",
    "\n",
    "\tfactors = [monomial(*bounds) for monomial in monomials]\n",
    "\tfor i, factor in enumerate(factors):\n",
    "\t\tB.rescale_col(i, factor)\n",
    "\n",
    "\tB = B.dense_matrix().LLL()\n",
    "\n",
    "\tB = B.change_ring(QQ)\n",
    "\tfor i, factor in enumerate(factors):\n",
    "\t\tB.rescale_col(i, 1/factor)\n",
    "\n",
    "\tH = Sequence([], f.parent().change_ring(QQ))\n",
    "\tfor h in filter(None, B*monomials):\n",
    "\t\tH.append(h)\n",
    "\t\tI = H.ideal()\n",
    "\t\tif I.dimension() == -1:\n",
    "\t\t\tH.pop()\n",
    "\t\telif I.dimension() == 0:\n",
    "\t\t\troots = []\n",
    "\t\t\tfor root in I.variety(ring=ZZ):\n",
    "\t\t\t\troot = tuple(R(root[var]) for var in f.variables())\n",
    "\t\t\t\troots.append(root)\n",
    "\t\t\treturn roots\n",
    "\n",
    "\treturn []"
   ]
  },
  {
   "cell_type": "raw",
   "id": "8ce085ce",
   "metadata": {},
   "source": [
    "Connu:\n",
    "   • X = (a² + b²)²/2^{k + 3l - 1} + ε       k + 3l - 1 = 809\n",
    "   • Y = (a² - b²) /2^{k + l - 1}  + δ       k +  l - 1 = 298\n",
    "   • Z = ab        /2^{k + l - 2}  + θ       k +  l - 2 = 297\n",
    "\n",
    "x = sqrt(X) = (a² + b²)/2^{405} + ε'\n",
    "y = Y/2^106 = (a² - b²)/2^{405} + δ'\n",
    "\n",
    "A = x + y = a²/2^{404} + ε''\n",
    "B = x - y = b²/2^{404} + δ''\n",
    "\n",
    "sqrt(A) = a/2^{202} + ε'''\n",
    "sqrt(B) = b/2^{202} + δ'''\n",
    "\n",
    "^ taking sqroot gives much better actual approx than /2^202"
   ]
  },
  {
   "cell_type": "code",
   "execution_count": 3,
   "id": "0fee7e51",
   "metadata": {},
   "outputs": [],
   "source": [
    "G = GaussianIntegers()\n",
    "I = G.1"
   ]
  },
  {
   "cell_type": "code",
   "execution_count": 4,
   "id": "338fe451",
   "metadata": {},
   "outputs": [],
   "source": [
    "out = {\"l\": 256, \"n\": \"-14071172672595565156007768487757352152764859476382183308954294492282186438059768663873855254160723159027292054036744986124692686209556946009925974804689837 - 6610317000442669421334350882238890617453420384375090003163635532360574332331395032179627075882638211898034449832265707815889692261667583698725230403922888*I\", \"x\": \"-7176323363776769500753056510533605236945282247634744933989912054917613964436015627240387012609750534697332139121227020338895149622592143017595990663716904 + 2094702396457769544631059140752727082508262094767499540057712562064057358492625212209337565533457698493244810916660015049968645149318701876542419400598957*I\", \"iv\": \"4d8642f93746942601e384559a826c41\", \"c\": \"89499cc6d2b2f8dfb8a61a45da8400654a6584850a51c80518edf653f3da9aab2271f028dab6ba2d99c4d6b28cbed26051abe9e34fbe6987fc9008f88d63c1060c05d3ffc59ce0af5ab4bd2bc7660600\"}\n",
    "l = out['l']\n",
    "n = eval(out['n'])\n",
    "x = eval(out['x'])\n",
    "iv = bytes.fromhex(out['iv'])\n",
    "c = bytes.fromhex(out['c'])"
   ]
  },
  {
   "cell_type": "code",
   "execution_count": 5,
   "id": "716a22f9",
   "metadata": {},
   "outputs": [],
   "source": [
    "nx = ZZ(n.real())\n",
    "ny = ZZ(n.imag())\n",
    "nn = ZZ(n.norm())\n",
    "\n",
    "x = isqrt(nn//2)\n",
    "y = (nx + ny)//2\n",
    "\n",
    "A = (x + y)//2\n",
    "B = (x - y)//2\n",
    "\n",
    "ha = isqrt(A)# >> 56 << 56\n",
    "hb = isqrt(B)# >> 56 << 56"
   ]
  },
  {
   "cell_type": "code",
   "execution_count": 7,
   "id": "b07295e0",
   "metadata": {
    "scrolled": false
   },
   "outputs": [
    {
     "name": "stdout",
     "output_type": "stream",
     "text": [
      "[(241694191228341590282227755842560560458777294460434313612601928368567561132179252004200690559702366784001462879224931911375634395518906577221215287838287794163260047847132433036520652572907874754816093603034853125108161461114535907275262838739263905002342257562378452056163571433557659433475251060381783089106, 39375382935)]\n",
      "True\n"
     ]
    }
   ],
   "source": [
    "R.<x, y> = Zmod(nn)[]\n",
    "j = modint(I, n)\n",
    "\n",
    "P = (ha + x) + j*(hb + y)\n",
    "roots = small_roots(P, [2^37, 2^37], m=1, d=5)\n",
    "print(roots)\n",
    "\n",
    "g = gcd(P(*roots[0]).lift(), nn)\n",
    "print(1 < g < nn)\n",
    "p = gcd(n, g)\n",
    "q = n//p\n",
    "\n",
    "np = p.norm()\n",
    "nq = q.norm()\n",
    "assert nn == np*nq"
   ]
  },
  {
   "cell_type": "code",
   "execution_count": 9,
   "id": "1b049633",
   "metadata": {},
   "outputs": [],
   "source": [
    "x = eval(out['x'])\n",
    "mp2 = GF(np)(modint(x, p)).sqrt(all=True)\n",
    "mq2 = GF(nq)(modint(x, q)).sqrt(all=True)"
   ]
  },
  {
   "cell_type": "code",
   "execution_count": 10,
   "id": "ad1a6f88",
   "metadata": {},
   "outputs": [],
   "source": [
    "mps = sum([m2.sqrt(all=True) for m2 in mp2], [])\n",
    "mqs = sum([m2.sqrt(all=True) for m2 in mq2], [])"
   ]
  },
  {
   "cell_type": "code",
   "execution_count": 12,
   "id": "67450cf9",
   "metadata": {},
   "outputs": [
    {
     "name": "stdout",
     "output_type": "stream",
     "text": [
      "m = 51102897160060406157241056914008951118350496681822415655361639149525942612837*I + 39770522306286956994530311833833299798569783600651871902701060740929856137114\n",
      "pt = b'FCSC{ebfebd88b798e1d8de96314a8c6a212c89c43fb69deae7c2298410e35ff53d37}\\n\\n\\n\\n\\n\\n\\n\\n\\n\\n'\n",
      "\n"
     ]
    }
   ],
   "source": [
    "from Crypto.Cipher import AES\n",
    "from itertools import product\n",
    "from hashlib import sha256\n",
    "\n",
    "for mp, mq in product(mps, mqs):\n",
    "    m = mod(crt([mp.lift(), mq.lift()], [np, nq]), n)\n",
    "    k = sha256(f\"({m.real()},{m.imag()})\".encode()).digest()\n",
    "    pt = AES.new(k, AES.MODE_CBC, iv).decrypt(c)\n",
    "\n",
    "    if b'FCSC' in pt:\n",
    "        print('m =', m)\n",
    "        print('pt =', pt)\n",
    "        print()"
   ]
  }
 ],
 "metadata": {
  "kernelspec": {
   "display_name": "SageMath 9.8.beta3",
   "language": "sage",
   "name": "sagemath"
  },
  "language_info": {
   "codemirror_mode": {
    "name": "ipython",
    "version": 3
   },
   "file_extension": ".py",
   "mimetype": "text/x-python",
   "name": "python",
   "nbconvert_exporter": "python",
   "pygments_lexer": "ipython3",
   "version": "3.10.8"
  }
 },
 "nbformat": 4,
 "nbformat_minor": 5
}
